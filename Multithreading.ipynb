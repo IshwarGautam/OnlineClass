{
 "cells": [
  {
   "cell_type": "code",
   "execution_count": 1,
   "metadata": {},
   "outputs": [],
   "source": [
    "import threading\n",
    "import time"
   ]
  },
  {
   "cell_type": "code",
   "execution_count": 2,
   "metadata": {},
   "outputs": [],
   "source": [
    "def get_cube(num):\n",
    "    for i in range(num):\n",
    "        time.sleep(3)\n",
    "        print(f\"Cube: {i**3}\")\n",
    "        print(time.ctime())"
   ]
  },
  {
   "cell_type": "code",
   "execution_count": 3,
   "metadata": {},
   "outputs": [],
   "source": [
    "def get_square(num):\n",
    "    for i in range(num):\n",
    "        time.sleep(2)\n",
    "        print(f\"Square: {i*i}\")\n",
    "        print(time.ctime())"
   ]
  },
  {
   "cell_type": "code",
   "execution_count": 4,
   "metadata": {},
   "outputs": [],
   "source": [
    "#create thread\n",
    "t1 = threading.Thread(target=get_square,args=(5,))\n",
    "t2 = threading.Thread(target=get_cube,args=(5,))"
   ]
  },
  {
   "cell_type": "code",
   "execution_count": 5,
   "metadata": {},
   "outputs": [
    {
     "name": "stdout",
     "output_type": "stream",
     "text": [
      "Fri Feb 28 14:05:58 2020\n",
      "Square: 0\n",
      "Fri Feb 28 14:06:00 2020\n",
      "Cube: 0\n",
      "Fri Feb 28 14:06:01 2020\n",
      "Square: 1\n",
      "Fri Feb 28 14:06:02 2020\n",
      "Cube: 1\n",
      "Fri Feb 28 14:06:04 2020\n",
      "Square: 4\n",
      "Fri Feb 28 14:06:04 2020\n",
      "Square: 9\n",
      "Fri Feb 28 14:06:06 2020\n",
      "Cube: 8\n",
      "Fri Feb 28 14:06:07 2020\n",
      "Square: 16\n",
      "Fri Feb 28 14:06:08 2020\n",
      "Cube: 27\n",
      "Fri Feb 28 14:06:10 2020\n",
      "Cube: 64\n",
      "Fri Feb 28 14:06:13 2020\n",
      "Thread successfully executed!!!\n"
     ]
    }
   ],
   "source": [
    "print(time.ctime())\n",
    "t1.start()\n",
    "t2.start()\n",
    "\n",
    "#The join() waits for threads to terminate.\n",
    "t1.join()\n",
    "t2.join()\n",
    "\n",
    "print(\"Thread successfully executed!!!\")"
   ]
  },
  {
   "cell_type": "code",
   "execution_count": null,
   "metadata": {},
   "outputs": [],
   "source": []
  }
 ],
 "metadata": {
  "kernelspec": {
   "display_name": "Python 3",
   "language": "python",
   "name": "python3"
  },
  "language_info": {
   "codemirror_mode": {
    "name": "ipython",
    "version": 3
   },
   "file_extension": ".py",
   "mimetype": "text/x-python",
   "name": "python",
   "nbconvert_exporter": "python",
   "pygments_lexer": "ipython3",
   "version": "3.8.1"
  }
 },
 "nbformat": 4,
 "nbformat_minor": 4
}
