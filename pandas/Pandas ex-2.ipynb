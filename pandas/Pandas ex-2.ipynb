{
 "cells": [
  {
   "cell_type": "code",
   "execution_count": 1,
   "metadata": {},
   "outputs": [],
   "source": [
    "import pandas as pd"
   ]
  },
  {
   "cell_type": "code",
   "execution_count": 2,
   "metadata": {},
   "outputs": [
    {
     "data": {
      "text/html": [
       "<div>\n",
       "<style scoped>\n",
       "    .dataframe tbody tr th:only-of-type {\n",
       "        vertical-align: middle;\n",
       "    }\n",
       "\n",
       "    .dataframe tbody tr th {\n",
       "        vertical-align: top;\n",
       "    }\n",
       "\n",
       "    .dataframe thead th {\n",
       "        text-align: right;\n",
       "    }\n",
       "</style>\n",
       "<table border=\"1\" class=\"dataframe\">\n",
       "  <thead>\n",
       "    <tr style=\"text-align: right;\">\n",
       "      <th></th>\n",
       "      <th>State_FIPS_Code</th>\n",
       "      <th>County_FIPS_Code</th>\n",
       "      <th>CHSI_County_Name</th>\n",
       "      <th>CHSI_State_Name</th>\n",
       "      <th>CHSI_State_Abbr</th>\n",
       "      <th>Strata_ID_Number</th>\n",
       "      <th>A_Wh_Comp</th>\n",
       "      <th>CI_Min_A_Wh_Comp</th>\n",
       "      <th>CI_Max_A_Wh_Comp</th>\n",
       "      <th>A_Bl_Comp</th>\n",
       "      <th>...</th>\n",
       "      <th>F_Bl_Cancer</th>\n",
       "      <th>CI_Min_F_Bl_Cancer</th>\n",
       "      <th>CI_Max_F_Bl_Cancer</th>\n",
       "      <th>F_Ot_Cancer</th>\n",
       "      <th>CI_Min_F_Ot_Cancer</th>\n",
       "      <th>CI_Max_F_Ot_Cancer</th>\n",
       "      <th>F_Hi_Cancer</th>\n",
       "      <th>CI_Min_F_Hi_Cancer</th>\n",
       "      <th>CI_Max_F_Hi_Cancer</th>\n",
       "      <th>LCD_Time_Span</th>\n",
       "    </tr>\n",
       "  </thead>\n",
       "  <tbody>\n",
       "    <tr>\n",
       "      <th>0</th>\n",
       "      <td>1</td>\n",
       "      <td>1</td>\n",
       "      <td>Autauga</td>\n",
       "      <td>Alabama</td>\n",
       "      <td>AL</td>\n",
       "      <td>29</td>\n",
       "      <td>-1111</td>\n",
       "      <td>-1111</td>\n",
       "      <td>-1111</td>\n",
       "      <td>-1111</td>\n",
       "      <td>...</td>\n",
       "      <td>19</td>\n",
       "      <td>14</td>\n",
       "      <td>23</td>\n",
       "      <td>-1111</td>\n",
       "      <td>-1111</td>\n",
       "      <td>-1111</td>\n",
       "      <td>-1111</td>\n",
       "      <td>-1111</td>\n",
       "      <td>-1111</td>\n",
       "      <td>1999-2003</td>\n",
       "    </tr>\n",
       "    <tr>\n",
       "      <th>1</th>\n",
       "      <td>1</td>\n",
       "      <td>3</td>\n",
       "      <td>Baldwin</td>\n",
       "      <td>Alabama</td>\n",
       "      <td>AL</td>\n",
       "      <td>16</td>\n",
       "      <td>57</td>\n",
       "      <td>39</td>\n",
       "      <td>75</td>\n",
       "      <td>-1111</td>\n",
       "      <td>...</td>\n",
       "      <td>20</td>\n",
       "      <td>15</td>\n",
       "      <td>25</td>\n",
       "      <td>-1111</td>\n",
       "      <td>-1111</td>\n",
       "      <td>-1111</td>\n",
       "      <td>-1111</td>\n",
       "      <td>-1111</td>\n",
       "      <td>-1111</td>\n",
       "      <td>2001-2003</td>\n",
       "    </tr>\n",
       "    <tr>\n",
       "      <th>2</th>\n",
       "      <td>1</td>\n",
       "      <td>5</td>\n",
       "      <td>Barbour</td>\n",
       "      <td>Alabama</td>\n",
       "      <td>AL</td>\n",
       "      <td>51</td>\n",
       "      <td>-1111</td>\n",
       "      <td>-1111</td>\n",
       "      <td>-1111</td>\n",
       "      <td>-1111</td>\n",
       "      <td>...</td>\n",
       "      <td>26</td>\n",
       "      <td>22</td>\n",
       "      <td>31</td>\n",
       "      <td>-1111</td>\n",
       "      <td>-1111</td>\n",
       "      <td>-1111</td>\n",
       "      <td>-1111</td>\n",
       "      <td>-1111</td>\n",
       "      <td>-1111</td>\n",
       "      <td>1999-2003</td>\n",
       "    </tr>\n",
       "    <tr>\n",
       "      <th>3</th>\n",
       "      <td>1</td>\n",
       "      <td>7</td>\n",
       "      <td>Bibb</td>\n",
       "      <td>Alabama</td>\n",
       "      <td>AL</td>\n",
       "      <td>42</td>\n",
       "      <td>-1111</td>\n",
       "      <td>-1111</td>\n",
       "      <td>-1111</td>\n",
       "      <td>-1111</td>\n",
       "      <td>...</td>\n",
       "      <td>20</td>\n",
       "      <td>14</td>\n",
       "      <td>25</td>\n",
       "      <td>-1111</td>\n",
       "      <td>-1111</td>\n",
       "      <td>-1111</td>\n",
       "      <td>-1111</td>\n",
       "      <td>-1111</td>\n",
       "      <td>-1111</td>\n",
       "      <td>1994-2003</td>\n",
       "    </tr>\n",
       "    <tr>\n",
       "      <th>4</th>\n",
       "      <td>1</td>\n",
       "      <td>9</td>\n",
       "      <td>Blount</td>\n",
       "      <td>Alabama</td>\n",
       "      <td>AL</td>\n",
       "      <td>28</td>\n",
       "      <td>34</td>\n",
       "      <td>17</td>\n",
       "      <td>52</td>\n",
       "      <td>-1111</td>\n",
       "      <td>...</td>\n",
       "      <td>28</td>\n",
       "      <td>10</td>\n",
       "      <td>46</td>\n",
       "      <td>-1111</td>\n",
       "      <td>-1111</td>\n",
       "      <td>-1111</td>\n",
       "      <td>-1111</td>\n",
       "      <td>-1111</td>\n",
       "      <td>-1111</td>\n",
       "      <td>1999-2003</td>\n",
       "    </tr>\n",
       "  </tbody>\n",
       "</table>\n",
       "<p>5 rows × 235 columns</p>\n",
       "</div>"
      ],
      "text/plain": [
       "   State_FIPS_Code  County_FIPS_Code CHSI_County_Name CHSI_State_Name  \\\n",
       "0                1                 1          Autauga         Alabama   \n",
       "1                1                 3          Baldwin         Alabama   \n",
       "2                1                 5          Barbour         Alabama   \n",
       "3                1                 7             Bibb         Alabama   \n",
       "4                1                 9           Blount         Alabama   \n",
       "\n",
       "  CHSI_State_Abbr  Strata_ID_Number  A_Wh_Comp  CI_Min_A_Wh_Comp  \\\n",
       "0              AL                29      -1111             -1111   \n",
       "1              AL                16         57                39   \n",
       "2              AL                51      -1111             -1111   \n",
       "3              AL                42      -1111             -1111   \n",
       "4              AL                28         34                17   \n",
       "\n",
       "   CI_Max_A_Wh_Comp  A_Bl_Comp  ...  F_Bl_Cancer  CI_Min_F_Bl_Cancer  \\\n",
       "0             -1111      -1111  ...           19                  14   \n",
       "1                75      -1111  ...           20                  15   \n",
       "2             -1111      -1111  ...           26                  22   \n",
       "3             -1111      -1111  ...           20                  14   \n",
       "4                52      -1111  ...           28                  10   \n",
       "\n",
       "   CI_Max_F_Bl_Cancer  F_Ot_Cancer  CI_Min_F_Ot_Cancer  CI_Max_F_Ot_Cancer  \\\n",
       "0                  23        -1111               -1111               -1111   \n",
       "1                  25        -1111               -1111               -1111   \n",
       "2                  31        -1111               -1111               -1111   \n",
       "3                  25        -1111               -1111               -1111   \n",
       "4                  46        -1111               -1111               -1111   \n",
       "\n",
       "   F_Hi_Cancer  CI_Min_F_Hi_Cancer  CI_Max_F_Hi_Cancer  LCD_Time_Span  \n",
       "0        -1111               -1111               -1111      1999-2003  \n",
       "1        -1111               -1111               -1111      2001-2003  \n",
       "2        -1111               -1111               -1111      1999-2003  \n",
       "3        -1111               -1111               -1111      1994-2003  \n",
       "4        -1111               -1111               -1111      1999-2003  \n",
       "\n",
       "[5 rows x 235 columns]"
      ]
     },
     "execution_count": 2,
     "metadata": {},
     "output_type": "execute_result"
    }
   ],
   "source": [
    "data=pd.read_csv(\"LEADINGCAUSESOFDEATH.csv\")\n",
    "data.head()\n",
    "\n",
    "#to read about what columns contain: \n",
    "#https://github.com/potatochip/heart_disease_prediction/blob/master/datasets/Community%20Health%20Status%20Indicators%20(CHSI)%20to%20Combat%20Obesity%2C%20Heart%20Disease%20and%20Cancer%20Popular/DATAELEMENTDESCRIPTION.csv"
   ]
  },
  {
   "cell_type": "code",
   "execution_count": 3,
   "metadata": {},
   "outputs": [],
   "source": [
    "data.drop(\"CHSI_State_Abbr\",axis=1, inplace=True)"
   ]
  },
  {
   "cell_type": "code",
   "execution_count": 4,
   "metadata": {},
   "outputs": [
    {
     "data": {
      "text/plain": [
       "Index(['State_FIPS_Code', 'County_FIPS_Code', 'CHSI_County_Name',\n",
       "       'CHSI_State_Name', 'Strata_ID_Number', 'A_Wh_Comp', 'CI_Min_A_Wh_Comp',\n",
       "       'CI_Max_A_Wh_Comp', 'A_Bl_Comp', 'CI_Min_A_Bl_Comp',\n",
       "       ...\n",
       "       'F_Bl_Cancer', 'CI_Min_F_Bl_Cancer', 'CI_Max_F_Bl_Cancer',\n",
       "       'F_Ot_Cancer', 'CI_Min_F_Ot_Cancer', 'CI_Max_F_Ot_Cancer',\n",
       "       'F_Hi_Cancer', 'CI_Min_F_Hi_Cancer', 'CI_Max_F_Hi_Cancer',\n",
       "       'LCD_Time_Span'],\n",
       "      dtype='object', length=234)"
      ]
     },
     "execution_count": 4,
     "metadata": {},
     "output_type": "execute_result"
    }
   ],
   "source": [
    "data.columns"
   ]
  },
  {
   "cell_type": "code",
   "execution_count": 5,
   "metadata": {},
   "outputs": [
    {
     "data": {
      "text/plain": [
       "(3141, 234)"
      ]
     },
     "execution_count": 5,
     "metadata": {},
     "output_type": "execute_result"
    }
   ],
   "source": [
    "data.shape"
   ]
  },
  {
   "cell_type": "code",
   "execution_count": 6,
   "metadata": {},
   "outputs": [
    {
     "data": {
      "text/plain": [
       "State_FIPS_Code       0\n",
       "County_FIPS_Code      0\n",
       "CHSI_County_Name      0\n",
       "CHSI_State_Name       0\n",
       "Strata_ID_Number      0\n",
       "                     ..\n",
       "CI_Max_F_Ot_Cancer    0\n",
       "F_Hi_Cancer           0\n",
       "CI_Min_F_Hi_Cancer    0\n",
       "CI_Max_F_Hi_Cancer    0\n",
       "LCD_Time_Span         0\n",
       "Length: 234, dtype: int64"
      ]
     },
     "execution_count": 6,
     "metadata": {},
     "output_type": "execute_result"
    }
   ],
   "source": [
    "data.isna().sum()"
   ]
  },
  {
   "cell_type": "code",
   "execution_count": 7,
   "metadata": {},
   "outputs": [
    {
     "data": {
      "text/plain": [
       "State_FIPS_Code        int64\n",
       "County_FIPS_Code       int64\n",
       "CHSI_County_Name      object\n",
       "CHSI_State_Name       object\n",
       "Strata_ID_Number       int64\n",
       "                       ...  \n",
       "CI_Max_F_Ot_Cancer     int64\n",
       "F_Hi_Cancer            int64\n",
       "CI_Min_F_Hi_Cancer     int64\n",
       "CI_Max_F_Hi_Cancer     int64\n",
       "LCD_Time_Span         object\n",
       "Length: 234, dtype: object"
      ]
     },
     "execution_count": 7,
     "metadata": {},
     "output_type": "execute_result"
    }
   ],
   "source": [
    "data.dtypes"
   ]
  },
  {
   "cell_type": "code",
   "execution_count": 8,
   "metadata": {},
   "outputs": [],
   "source": [
    "#LCD_Time_Span-->Time period of reported data for national leading causes of death\n",
    "\n",
    "data[['LCD_Time_start','LCD_Time_end']]=data.LCD_Time_Span.str.split('-',expand=True).astype('int64')\n",
    "#expand: Boolean value, returns a data frame with different value in different columns if True. \n",
    "#Else it returns a series with list of strings."
   ]
  },
  {
   "cell_type": "code",
   "execution_count": 9,
   "metadata": {
    "scrolled": true
   },
   "outputs": [
    {
     "data": {
      "text/html": [
       "<div>\n",
       "<style scoped>\n",
       "    .dataframe tbody tr th:only-of-type {\n",
       "        vertical-align: middle;\n",
       "    }\n",
       "\n",
       "    .dataframe tbody tr th {\n",
       "        vertical-align: top;\n",
       "    }\n",
       "\n",
       "    .dataframe thead th {\n",
       "        text-align: right;\n",
       "    }\n",
       "</style>\n",
       "<table border=\"1\" class=\"dataframe\">\n",
       "  <thead>\n",
       "    <tr style=\"text-align: right;\">\n",
       "      <th></th>\n",
       "      <th>County_FIPS_Code</th>\n",
       "      <th>CHSI_County_Name</th>\n",
       "      <th>LCD_Time_start</th>\n",
       "      <th>LCD_Time_end</th>\n",
       "    </tr>\n",
       "  </thead>\n",
       "  <tbody>\n",
       "    <tr>\n",
       "      <th>0</th>\n",
       "      <td>1</td>\n",
       "      <td>Autauga</td>\n",
       "      <td>1999</td>\n",
       "      <td>2003</td>\n",
       "    </tr>\n",
       "    <tr>\n",
       "      <th>1</th>\n",
       "      <td>3</td>\n",
       "      <td>Baldwin</td>\n",
       "      <td>2001</td>\n",
       "      <td>2003</td>\n",
       "    </tr>\n",
       "    <tr>\n",
       "      <th>2</th>\n",
       "      <td>5</td>\n",
       "      <td>Barbour</td>\n",
       "      <td>1999</td>\n",
       "      <td>2003</td>\n",
       "    </tr>\n",
       "    <tr>\n",
       "      <th>3</th>\n",
       "      <td>7</td>\n",
       "      <td>Bibb</td>\n",
       "      <td>1994</td>\n",
       "      <td>2003</td>\n",
       "    </tr>\n",
       "    <tr>\n",
       "      <th>4</th>\n",
       "      <td>9</td>\n",
       "      <td>Blount</td>\n",
       "      <td>1999</td>\n",
       "      <td>2003</td>\n",
       "    </tr>\n",
       "  </tbody>\n",
       "</table>\n",
       "</div>"
      ],
      "text/plain": [
       "   County_FIPS_Code CHSI_County_Name  LCD_Time_start  LCD_Time_end\n",
       "0                 1          Autauga            1999          2003\n",
       "1                 3          Baldwin            2001          2003\n",
       "2                 5          Barbour            1999          2003\n",
       "3                 7             Bibb            1994          2003\n",
       "4                 9           Blount            1999          2003"
      ]
     },
     "execution_count": 9,
     "metadata": {},
     "output_type": "execute_result"
    }
   ],
   "source": [
    "data[['County_FIPS_Code','CHSI_County_Name','LCD_Time_start','LCD_Time_end']].head()"
   ]
  },
  {
   "cell_type": "code",
   "execution_count": 10,
   "metadata": {},
   "outputs": [
    {
     "data": {
      "text/plain": [
       "State_FIPS_Code        int64\n",
       "County_FIPS_Code       int64\n",
       "CHSI_County_Name      object\n",
       "CHSI_State_Name       object\n",
       "Strata_ID_Number       int64\n",
       "                       ...  \n",
       "CI_Min_F_Hi_Cancer     int64\n",
       "CI_Max_F_Hi_Cancer     int64\n",
       "LCD_Time_Span         object\n",
       "LCD_Time_start         int64\n",
       "LCD_Time_end           int64\n",
       "Length: 236, dtype: object"
      ]
     },
     "execution_count": 10,
     "metadata": {},
     "output_type": "execute_result"
    }
   ],
   "source": [
    "data.dtypes"
   ]
  },
  {
   "cell_type": "code",
   "execution_count": 11,
   "metadata": {},
   "outputs": [
    {
     "data": {
      "text/html": [
       "<div>\n",
       "<style scoped>\n",
       "    .dataframe tbody tr th:only-of-type {\n",
       "        vertical-align: middle;\n",
       "    }\n",
       "\n",
       "    .dataframe tbody tr th {\n",
       "        vertical-align: top;\n",
       "    }\n",
       "\n",
       "    .dataframe thead th {\n",
       "        text-align: right;\n",
       "    }\n",
       "</style>\n",
       "<table border=\"1\" class=\"dataframe\">\n",
       "  <thead>\n",
       "    <tr style=\"text-align: right;\">\n",
       "      <th></th>\n",
       "      <th>County_FIPS_Code</th>\n",
       "      <th>CHSI_County_Name</th>\n",
       "      <th>LCD_Time_start</th>\n",
       "      <th>LCD_Time_end</th>\n",
       "    </tr>\n",
       "  </thead>\n",
       "  <tbody>\n",
       "    <tr>\n",
       "      <th>2948</th>\n",
       "      <td>810</td>\n",
       "      <td>Virginia Beach City</td>\n",
       "      <td>2001</td>\n",
       "      <td>2003</td>\n",
       "    </tr>\n",
       "    <tr>\n",
       "      <th>2943</th>\n",
       "      <td>760</td>\n",
       "      <td>Richmond City</td>\n",
       "      <td>2001</td>\n",
       "      <td>2003</td>\n",
       "    </tr>\n",
       "    <tr>\n",
       "      <th>2941</th>\n",
       "      <td>740</td>\n",
       "      <td>Portsmouth City</td>\n",
       "      <td>2001</td>\n",
       "      <td>2003</td>\n",
       "    </tr>\n",
       "    <tr>\n",
       "      <th>2937</th>\n",
       "      <td>710</td>\n",
       "      <td>Norfolk City</td>\n",
       "      <td>2001</td>\n",
       "      <td>2003</td>\n",
       "    </tr>\n",
       "    <tr>\n",
       "      <th>2936</th>\n",
       "      <td>700</td>\n",
       "      <td>Newport News City</td>\n",
       "      <td>2001</td>\n",
       "      <td>2003</td>\n",
       "    </tr>\n",
       "    <tr>\n",
       "      <th>2928</th>\n",
       "      <td>650</td>\n",
       "      <td>Hampton City</td>\n",
       "      <td>2001</td>\n",
       "      <td>2003</td>\n",
       "    </tr>\n",
       "    <tr>\n",
       "      <th>2918</th>\n",
       "      <td>550</td>\n",
       "      <td>Chesapeake City</td>\n",
       "      <td>2001</td>\n",
       "      <td>2003</td>\n",
       "    </tr>\n",
       "    <tr>\n",
       "      <th>1214</th>\n",
       "      <td>510</td>\n",
       "      <td>Baltimore City</td>\n",
       "      <td>2001</td>\n",
       "      <td>2003</td>\n",
       "    </tr>\n",
       "    <tr>\n",
       "      <th>1595</th>\n",
       "      <td>510</td>\n",
       "      <td>St. Louis City</td>\n",
       "      <td>2001</td>\n",
       "      <td>2003</td>\n",
       "    </tr>\n",
       "    <tr>\n",
       "      <th>2913</th>\n",
       "      <td>510</td>\n",
       "      <td>Alexandria City</td>\n",
       "      <td>2001</td>\n",
       "      <td>2003</td>\n",
       "    </tr>\n",
       "  </tbody>\n",
       "</table>\n",
       "</div>"
      ],
      "text/plain": [
       "      County_FIPS_Code     CHSI_County_Name  LCD_Time_start  LCD_Time_end\n",
       "2948               810  Virginia Beach City            2001          2003\n",
       "2943               760        Richmond City            2001          2003\n",
       "2941               740      Portsmouth City            2001          2003\n",
       "2937               710         Norfolk City            2001          2003\n",
       "2936               700    Newport News City            2001          2003\n",
       "2928               650         Hampton City            2001          2003\n",
       "2918               550      Chesapeake City            2001          2003\n",
       "1214               510       Baltimore City            2001          2003\n",
       "1595               510       St. Louis City            2001          2003\n",
       "2913               510      Alexandria City            2001          2003"
      ]
     },
     "execution_count": 11,
     "metadata": {},
     "output_type": "execute_result"
    }
   ],
   "source": [
    "#sorting\n",
    "data[['County_FIPS_Code','CHSI_County_Name','LCD_Time_start','LCD_Time_end']].sort_values(['LCD_Time_start','County_FIPS_Code','LCD_Time_end'], ascending=False).head(10)"
   ]
  },
  {
   "cell_type": "markdown",
   "metadata": {},
   "source": [
    "## Visualize the data"
   ]
  },
  {
   "cell_type": "code",
   "execution_count": 14,
   "metadata": {},
   "outputs": [
    {
     "data": {
      "text/plain": [
       "<matplotlib.axes._subplots.AxesSubplot at 0x26bb2876908>"
      ]
     },
     "execution_count": 14,
     "metadata": {},
     "output_type": "execute_result"
    },
    {
     "data": {
      "image/png": "[encoded data removed]",
      "text/plain": [
       "<Figure size 1080x720 with 1 Axes>"
      ]
     },
     "metadata": {
      "needs_background": "light"
     },
     "output_type": "display_data"
    },
    {
     "data": {
      "image/png": "[encoded data removed]",
      "text/plain": [
       "<Figure size 1080x720 with 1 Axes>"
      ]
     },
     "metadata": {
      "needs_background": "light"
     },
     "output_type": "display_data"
    }
   ],
   "source": [
    "import matplotlib.pyplot as plt\n",
    "%matplotlib inline\n",
    "\n",
    "new_data = pd.read_csv(\"LEADINGCAUSESOFDEATH.csv\").head(20)\n",
    "\n",
    "# Quick inspection of the data\n",
    "new_data.plot.barh(x='CHSI_County_Name', \n",
    "                y= 'A_Wh_Comp', #County data, under age 1, complications of pregnancy/birth, White\n",
    "                figsize = (15, 10),\n",
    "               )\n",
    "\n",
    "# Filtering the output, data greater than 50 will only be shown.\n",
    "new_data[new_data.A_Wh_Comp > 0].plot.barh(x='CHSI_County_Name', \n",
    "                                                y= 'A_Wh_Comp',\n",
    "                                                figsize = (15, 10),\n",
    "                                               )"
   ]
  }
 ],
 "metadata": {
  "kernelspec": {
   "display_name": "Python 3",
   "language": "python",
   "name": "python3"
  },
  "language_info": {
   "codemirror_mode": {
    "name": "ipython",
    "version": 3
   },
   "file_extension": ".py",
   "mimetype": "text/x-python",
   "name": "python",
   "nbconvert_exporter": "python",
   "pygments_lexer": "ipython3",
   "version": "3.7.7"
  }
 },
 "nbformat": 4,
 "nbformat_minor": 4
}
